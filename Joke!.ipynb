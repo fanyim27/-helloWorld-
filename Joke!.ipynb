{
  "nbformat": 4,
  "nbformat_minor": 0,
  "metadata": {
    "colab": {
      "name": "Joke!.ipynb",
      "provenance": [],
      "authorship_tag": "ABX9TyPOZlqOgCCOQRuKKw7AjsmB",
      "include_colab_link": true
    },
    "kernelspec": {
      "name": "python3",
      "display_name": "Python 3"
    },
    "language_info": {
      "name": "python"
    }
  },
  "cells": [
    {
      "cell_type": "markdown",
      "metadata": {
        "id": "view-in-github",
        "colab_type": "text"
      },
      "source": [
        "<a href=\"https://colab.research.google.com/github/fanyim27/-helloWorld-/blob/main/Joke!.ipynb\" target=\"_parent\"><img src=\"https://colab.research.google.com/assets/colab-badge.svg\" alt=\"Open In Colab\"/></a>"
      ]
    },
    {
      "cell_type": "markdown",
      "metadata": {
        "id": "FSuXQ8Y7ajfN"
      },
      "source": [
        "#Let's make a short web scraping that we will use later for sentiment analysis#\n",
        "## we will collect all jokes from Chuck Norris\n",
        "(\"https://chucknorrisfacts.net/facts\")##"
      ]
    },
    {
      "cell_type": "code",
      "metadata": {
        "id": "FAyylDFetb0G"
      },
      "source": [
        "import pandas as pd\n",
        "import requests\n",
        "from bs4 import BeautifulSoup\n",
        "import time\n",
        "navigator = 'Mozilla/5.0 (Macintosh; Intel Mac OS X 10_10_1)'\n",
        "url = (\"https://chucknorrisfacts.net/facts\")\n",
        "html = requests.get(url, headers={'User-Agent': navigator})\n",
        "soup = BeautifulSoup(html.text, 'html.parser')"
      ],
      "execution_count": 2,
      "outputs": []
    },
    {
      "cell_type": "code",
      "metadata": {
        "id": "cTb2kSQMupBK"
      },
      "source": [
        "contenu = soup.find(id=\"content\") #the block where all jokes, rates and number of votes are located"
      ],
      "execution_count": 3,
      "outputs": []
    },
    {
      "cell_type": "code",
      "metadata": {
        "id": "UWZMK-0IvN_s"
      },
      "source": [
        "pages = []\n",
        "joke = []\n",
        "rates = []\n",
        "number_of_votes = []\n",
        "pages_to_scrape = 266\n",
        "for i in range(1,pages_to_scrape+1):\n",
        "    items = contenu.find_all(style=\"border-top: 1px solid #251836; padding: 0 0 5px 7px;\")\n",
        "    url = ('https://chucknorrisfacts.net/facts.php?page={}').format(i)\n",
        "    pages.append(url)\n",
        "    for item in items:\n",
        "      joke.append(item.find('p').text)\n",
        "\n",
        "    for item in items:\n",
        "     rates.append(item.find(class_='out5Class').text)\n",
        "\n",
        "    for item in items:\n",
        "     number_of_votes.append(item.find(class_='votesClass').text)\n",
        "\n",
        "    time.sleep(3) "
      ],
      "execution_count": 4,
      "outputs": []
    },
    {
      "cell_type": "markdown",
      "metadata": {
        "id": "qgCK4WFjcDxb"
      },
      "source": [
        "## Now we can create our dataframe##"
      ]
    },
    {
      "cell_type": "code",
      "metadata": {
        "id": "zoLYaojvVyjp"
      },
      "source": [
        "data={'Jokes': joke, 'Rates': rates, 'Numbers_of_votes':number_of_votes}\n",
        "df=pd.DataFrame(data=data)\n",
        "df.index+=1"
      ],
      "execution_count": 9,
      "outputs": []
    },
    {
      "cell_type": "code",
      "metadata": {
        "colab": {
          "base_uri": "https://localhost:8080/",
          "height": 419
        },
        "id": "21guji62hU9i",
        "outputId": "5b8c65a8-8972-4d12-8840-31b17fa9a294"
      },
      "source": [
        "df"
      ],
      "execution_count": 10,
      "outputs": [
        {
          "output_type": "execute_result",
          "data": {
            "text/html": [
              "<div>\n",
              "<style scoped>\n",
              "    .dataframe tbody tr th:only-of-type {\n",
              "        vertical-align: middle;\n",
              "    }\n",
              "\n",
              "    .dataframe tbody tr th {\n",
              "        vertical-align: top;\n",
              "    }\n",
              "\n",
              "    .dataframe thead th {\n",
              "        text-align: right;\n",
              "    }\n",
              "</style>\n",
              "<table border=\"1\" class=\"dataframe\">\n",
              "  <thead>\n",
              "    <tr style=\"text-align: right;\">\n",
              "      <th></th>\n",
              "      <th>Jokes</th>\n",
              "      <th>Rates</th>\n",
              "      <th>Numbers_of_votes</th>\n",
              "    </tr>\n",
              "  </thead>\n",
              "  <tbody>\n",
              "    <tr>\n",
              "      <th>1</th>\n",
              "      <td>There is no 'ctrl' button on Chuck Norris' com...</td>\n",
              "      <td>3.74</td>\n",
              "      <td>1076 Votes</td>\n",
              "    </tr>\n",
              "    <tr>\n",
              "      <th>2</th>\n",
              "      <td>Chuck Norris doesnt sleep. He waits.</td>\n",
              "      <td>3.82</td>\n",
              "      <td>864 Votes</td>\n",
              "    </tr>\n",
              "    <tr>\n",
              "      <th>3</th>\n",
              "      <td>Some kids piss their name in the snow. Chuck N...</td>\n",
              "      <td>4.05</td>\n",
              "      <td>4938 Votes</td>\n",
              "    </tr>\n",
              "    <tr>\n",
              "      <th>4</th>\n",
              "      <td>Chuck Norris' calendar goes straight from Marc...</td>\n",
              "      <td>4.08</td>\n",
              "      <td>5017 Votes</td>\n",
              "    </tr>\n",
              "    <tr>\n",
              "      <th>5</th>\n",
              "      <td>Chuck Norris is the only person in the world t...</td>\n",
              "      <td>3.58</td>\n",
              "      <td>672 Votes</td>\n",
              "    </tr>\n",
              "    <tr>\n",
              "      <th>...</th>\n",
              "      <td>...</td>\n",
              "      <td>...</td>\n",
              "      <td>...</td>\n",
              "    </tr>\n",
              "    <tr>\n",
              "      <th>5316</th>\n",
              "      <td>Chuck Norris can unscramble an egg.</td>\n",
              "      <td>4.06</td>\n",
              "      <td>3628 Votes</td>\n",
              "    </tr>\n",
              "    <tr>\n",
              "      <th>5317</th>\n",
              "      <td>When Chuck Norris wants popcorn, he breathes o...</td>\n",
              "      <td>3.34</td>\n",
              "      <td>510 Votes</td>\n",
              "    </tr>\n",
              "    <tr>\n",
              "      <th>5318</th>\n",
              "      <td>Chuck Norris has a vacation home on the sun.</td>\n",
              "      <td>3.22</td>\n",
              "      <td>473 Votes</td>\n",
              "    </tr>\n",
              "    <tr>\n",
              "      <th>5319</th>\n",
              "      <td>Chuck Norris is suing Myspace for taking the n...</td>\n",
              "      <td>3.4</td>\n",
              "      <td>498 Votes</td>\n",
              "    </tr>\n",
              "    <tr>\n",
              "      <th>5320</th>\n",
              "      <td>Chuck Norris destroyed the periodic table, bec...</td>\n",
              "      <td>3.94</td>\n",
              "      <td>1694 Votes</td>\n",
              "    </tr>\n",
              "  </tbody>\n",
              "</table>\n",
              "<p>5320 rows × 3 columns</p>\n",
              "</div>"
            ],
            "text/plain": [
              "                                                  Jokes Rates Numbers_of_votes\n",
              "1     There is no 'ctrl' button on Chuck Norris' com...  3.74       1076 Votes\n",
              "2                  Chuck Norris doesnt sleep. He waits.  3.82        864 Votes\n",
              "3     Some kids piss their name in the snow. Chuck N...  4.05       4938 Votes\n",
              "4     Chuck Norris' calendar goes straight from Marc...  4.08       5017 Votes\n",
              "5     Chuck Norris is the only person in the world t...  3.58        672 Votes\n",
              "...                                                 ...   ...              ...\n",
              "5316                Chuck Norris can unscramble an egg.  4.06       3628 Votes\n",
              "5317  When Chuck Norris wants popcorn, he breathes o...  3.34        510 Votes\n",
              "5318       Chuck Norris has a vacation home on the sun.  3.22        473 Votes\n",
              "5319  Chuck Norris is suing Myspace for taking the n...   3.4        498 Votes\n",
              "5320  Chuck Norris destroyed the periodic table, bec...  3.94       1694 Votes\n",
              "\n",
              "[5320 rows x 3 columns]"
            ]
          },
          "metadata": {},
          "execution_count": 10
        }
      ]
    },
    {
      "cell_type": "code",
      "metadata": {
        "id": "fqLj5NgZb7Ne"
      },
      "source": [
        "df.to_csv('chucknorris.csv') #save as csv file"
      ],
      "execution_count": 13,
      "outputs": []
    }
  ]
}